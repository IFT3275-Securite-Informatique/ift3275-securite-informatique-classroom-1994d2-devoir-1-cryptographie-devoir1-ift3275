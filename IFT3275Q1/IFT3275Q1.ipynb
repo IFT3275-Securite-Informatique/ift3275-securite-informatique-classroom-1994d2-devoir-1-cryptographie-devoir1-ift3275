{
 "cells": [
  {
   "metadata": {},
   "cell_type": "markdown",
   "source": [
    "# Devoir 1\n",
    "\n",
    "**Introduction à la sécurité informatique**\n",
    "\n",
    "**IFT3725 - IFT6271- Automne 2024**"
   ],
   "id": "805044066ee2b7b6"
  },
  {
   "metadata": {},
   "cell_type": "markdown",
   "source": [
    "Par: \n",
    "- Yongkang he     20220607\n",
    "- Wanting teng    20179470"
   ],
   "id": "4dbfa4f61acfcfbc"
  },
  {
   "metadata": {},
   "cell_type": "markdown",
   "source": "## Codes fournis initialement ##",
   "id": "99b5df8d351aa19b"
  },
  {
   "metadata": {
    "ExecuteTime": {
     "end_time": "2024-11-11T04:41:46.293409Z",
     "start_time": "2024-11-11T04:41:46.285255Z"
    }
   },
   "cell_type": "code",
   "source": [
    "import math\n",
    "import random as rnd\n",
    "import numpy as np\n",
    "import requests\n",
    "from collections import Counter"
   ],
   "id": "2c753ce2946a095c",
   "outputs": [],
   "execution_count": 13
  },
  {
   "metadata": {
    "ExecuteTime": {
     "end_time": "2024-11-11T04:41:46.395028Z",
     "start_time": "2024-11-11T04:41:46.378998Z"
    }
   },
   "cell_type": "code",
   "source": [
    "# convert string to list of integer\n",
    "def str_to_int_list(x):\n",
    "  z = [ord(a) for a in x  ]\n",
    "  for x in z:\n",
    "    if x > 256:\n",
    "      print(x)\n",
    "      return False\n",
    "  return z\n",
    "\n",
    "# convert a strint to an integer\n",
    "def str_to_int(x):\n",
    "  x = str_to_int_list(x)\n",
    "  if x == False:\n",
    "    print(\"Le text n'est pas compatible!\")\n",
    "    return False\n",
    "\n",
    "  res = 0\n",
    "  for a in x:\n",
    "    res = res * 256 + a\n",
    "  i = 0\n",
    "  res = \"\"\n",
    "  for a in x:\n",
    "    ci = \"{:08b}\".format(a )\n",
    "    if len(ci)>8:\n",
    "      print()\n",
    "      print(\"long\",a)\n",
    "      print()\n",
    "    res = res + ci\n",
    "  res = eval(\"0b\"+res)\n",
    "  return res"
   ],
   "id": "2cca85a1e27f1f6a",
   "outputs": [],
   "execution_count": 14
  },
  {
   "metadata": {},
   "cell_type": "markdown",
   "source": "## Exemples founis initialement",
   "id": "9098ef56864eda0d"
  },
  {
   "metadata": {
    "ExecuteTime": {
     "end_time": "2024-11-11T04:41:46.511848Z",
     "start_time": "2024-11-11T04:41:46.488528Z"
    }
   },
   "cell_type": "code",
   "source": [
    "cs = {\"A\",\"é\",\"!\"}\n",
    "for c in cs:\n",
    "  print(c,\"=\",ord(c),\"=\",\"{:08b}\".format(ord(c) ))"
   ],
   "id": "92221817ba3ea941",
   "outputs": [
    {
     "name": "stdout",
     "output_type": "stream",
     "text": [
      "A = 65 = 01000001\n",
      "! = 33 = 00100001\n",
      "é = 233 = 11101001\n"
     ]
    }
   ],
   "execution_count": 15
  },
  {
   "metadata": {
    "ExecuteTime": {
     "end_time": "2024-11-11T04:41:46.641251Z",
     "start_time": "2024-11-11T04:41:46.628816Z"
    }
   },
   "cell_type": "code",
   "source": [
    "M=\"Alain Tapp\"\n",
    "print(M)\n",
    "print(list(M))\n",
    "print(list(map(ord,list(M))))\n",
    "print(str_to_int(\"Alain Tapp\"))"
   ],
   "id": "8f05ef20227d4662",
   "outputs": [
    {
     "name": "stdout",
     "output_type": "stream",
     "text": [
      "Alain Tapp\n",
      "['A', 'l', 'a', 'i', 'n', ' ', 'T', 'a', 'p', 'p']\n",
      "[65, 108, 97, 105, 110, 32, 84, 97, 112, 112]\n",
      "308953089009066937774192\n"
     ]
    }
   ],
   "execution_count": 16
  },
  {
   "metadata": {},
   "cell_type": "markdown",
   "source": "## Question 1: fonctions fournis initialement\n",
   "id": "1a9336b3bc552b5"
  },
  {
   "metadata": {
    "ExecuteTime": {
     "end_time": "2024-11-11T04:41:46.813888Z",
     "start_time": "2024-11-11T04:41:46.788742Z"
    }
   },
   "cell_type": "code",
   "source": [
    "# exponentiation modulaire\n",
    "def modular_pow(base, exponent, modulus):\n",
    "    result = 1\n",
    "    base = base % modulus\n",
    "    while exponent > 0:\n",
    "        if (exponent % 2 == 1):\n",
    "            result = (result * base) % modulus\n",
    "        exponent = exponent >> 1\n",
    "        base = (base * base) % modulus\n",
    "    return result\n",
    "\n",
    "def egcd(a, b):\n",
    "    if a == 0:\n",
    "        return (b, 0, 1)\n",
    "    else:\n",
    "        g, y, x = egcd(b % a, a)\n",
    "        return (g, x - (b // a) * y, y)\n",
    "\n",
    "# inverse multiplicatif de a modulo m\n",
    "def modinv(a, m):\n",
    "    g, x, y = egcd(a, m)\n",
    "    if g != 1:\n",
    "        raise Exception(\"Pas d'inverse multiplicatif\")\n",
    "    else:\n",
    "      return x % m"
   ],
   "id": "10cf916bbb030e31",
   "outputs": [],
   "execution_count": 17
  },
  {
   "metadata": {},
   "cell_type": "markdown",
   "source": "##  Clé publique Question 1.1",
   "id": "1db92188778184e5"
  },
  {
   "metadata": {
    "ExecuteTime": {
     "end_time": "2024-11-11T04:42:18.562699Z",
     "start_time": "2024-11-11T04:42:18.544651Z"
    }
   },
   "cell_type": "code",
   "source": [
    "# Clé publique Question 1.1\n",
    "N = 143516336909281815529104150147210248002789712761086900059705342103220782674046289232082435789563283739805745579873432846680889870107881916428241419520831648173912486431640350000860973935300056089286158737579357805977019329557985454934146282550582942463631245697702998511180787007029139561933433550242693047924440388550983498690080764882934101834908025314861468726253425554334760146923530403924523372477686668752567287060201407464630943218236132423772636675182977585707596016011556917504759131444160240252733282969534092869685338931241204785750519748505439039801119762049796085719106591562217115679236583\n",
    "e = 3\n",
    "\n",
    "# Cryptogramme 1.1\n",
    "C = 1101510739796100601351050380607502904616643795400781908795311659278941419415375"
   ],
   "id": "93379cf2e3752bee",
   "outputs": [],
   "execution_count": 29
  },
  {
   "metadata": {},
   "cell_type": "markdown",
   "source": [
    "## Reponse Question 1.1: Umberto Eco\n",
    "\n",
    "- Lorsque e=3, pour recuperer M a partir de C, on peut calculer la racine cubique entiere de C. Ainsi, l'inverse de la racine cubique permettra de calculer M \n",
    "- Une fois que l'on trouve M, on le convertira en chaine de caracteres \n",
    "\n",
    "#### Bref, nous avons introduit 1 fonction principal et 2 fonctions auxiliaires : \n",
    "1.\tDécrypter un message chiffré (decrypt_msg)\n",
    "- Calculer la racine cubique entière de C (integer_nth_root)\n",
    "- Convertir un entier x en une chaîne de caractères (int_to_str)\n"
   ],
   "id": "d76db39d04ec1d83"
  },
  {
   "metadata": {
    "ExecuteTime": {
     "end_time": "2024-11-11T04:42:21.216047Z",
     "start_time": "2024-11-11T04:42:21.192958Z"
    }
   },
   "cell_type": "code",
   "source": [
    "# fonction calcule la racine n-ième entière de k\n",
    "def integer_nth_root(k, n):\n",
    "    u, s = k, k + 1\n",
    "    while u < s:\n",
    "        s = u\n",
    "        t = (n - 1) * s + k // pow(s, n - 1)\n",
    "        u = t // n\n",
    "    if s ** n == k:\n",
    "        return s\n",
    "    else:\n",
    "        return None\n",
    "\n",
    "# fonction tente de décrypter un message chiffré en utilisant une opération de racine n-ième\n",
    "def decrypt_msg(C, e):\n",
    "    # Trouver la racine n-ième de C avec l'exposant e\n",
    "    M = integer_nth_root(C, e)\n",
    "    \n",
    "    if M is not None:\n",
    "        print(\"M:\", M)\n",
    "        if pow(M, e) == C:\n",
    "            message = int_to_str(M)\n",
    "            print(\"message：\", message)\n",
    "        else:\n",
    "            print(\"M^e != C\")\n",
    "    else:\n",
    "        print(\"Le décryptage a échoué\")\n",
    "\n",
    "# fonction convertit un entier x en une chaîne de caractères\n",
    "def int_to_str(x):\n",
    "\n",
    "    binary_str = bin(x)[2:]\n",
    "    while len(binary_str) % 8 != 0:\n",
    "        binary_str = '0' + binary_str\n",
    "    chars = []\n",
    "    for i in range(0, len(binary_str), 8):\n",
    "        byte = binary_str[i:i+8]\n",
    "        chars.append(chr(int(byte, 2)))\n",
    "    return ''.join(chars)\n"
   ],
   "id": "82bf39dfda2a452e",
   "outputs": [],
   "execution_count": 30
  },
  {
   "metadata": {
    "ExecuteTime": {
     "end_time": "2024-11-11T04:42:24.814437Z",
     "start_time": "2024-11-11T04:42:24.802982Z"
    }
   },
   "cell_type": "code",
   "source": [
    "# Appel de la fonction\n",
    "decrypt_msg(C, e)"
   ],
   "id": "f4824f23c7605e9a",
   "outputs": [
    {
     "name": "stdout",
     "output_type": "stream",
     "text": [
      "M: 103275247704828660521722735\n",
      "message： Umberto Eco\n"
     ]
    }
   ],
   "execution_count": 31
  },
  {
   "metadata": {},
   "cell_type": "markdown",
   "source": "##  Clé publique Question 1.2",
   "id": "5caa139e67cf54ef"
  },
  {
   "metadata": {
    "ExecuteTime": {
     "end_time": "2024-11-11T04:41:47.093827Z",
     "start_time": "2024-11-11T04:41:47.079950Z"
    }
   },
   "cell_type": "code",
   "source": [
    "# Clé publique Question 1.2\n",
    "N = 172219604291138178634924980176652297603347655313304280071646410523864939208855547078498922947475940487766894695848119416017067844129458299713889703424997977808694983717968420001033168722360067307143390485095229367172423195469582545920975539060699530956357494837243598213416944408434967474317474605697904676813343577310719430442085422937057220239881971046349315235043163226355302567726074269720408051461805113819456513196492192727498270702594217800502904761235711809203123842506621973488494670663483187137290546241477681096402483981619592515049062514180404818608764516997842633077157249806627735448350463\n",
    "e = 173\n",
    "\n",
    "# Cryptogramme 1.2\n",
    "C = 25782248377669919648522417068734999301629843637773352461224686415010617355125387994732992745416621651531340476546870510355165303752005023118034265203513423674356501046415839977013701924329378846764632894673783199644549307465659236628983151796254371046814548224159604302737470578495440769408253954186605567492864292071545926487199114612586510433943420051864924177673243381681206265372333749354089535394870714730204499162577825526329944896454450322256563485123081116679246715959621569603725379746870623049834475932535184196208270713675357873579469122917915887954980541308199688932248258654715380981800909"
   ],
   "id": "d1bb5426ca55a67d",
   "outputs": [],
   "execution_count": 21
  },
  {
   "metadata": {},
   "cell_type": "markdown",
   "source": [
    "## Reponse Question 1.2:  Marcel Proust\n",
    "Idée:\n",
    "- Lorsque e=173, cette valeur étant grande, on ne peut plus passer par la fonction précédemment\n",
    "- Nous allons donc utiliser d, qui est la clé privée. Pour cela, nous devons d'abord trouver l'indice d'Euler.\n",
    "- Pour trouver l'indice d'Euler, il nous faudra les valeurs de p et q.\n",
    "\n",
    "\n",
    "#### Bref, nous avons introduit 1 fonction:\n",
    "-\tFonction de déchiffrement RSA  (rsa_decrypt)\n",
    "   - Vérification si ce sont les bonnes p et q (ils sont unique)\n",
    "   - Calculer phi_N\n",
    "   - Calculer l'inverse modulaire de e pour obtenir d (modinv) fct fourni\n",
    "   - Calculer de l'exponentiation modulaire (modular_pow) fct fourni\n",
    "   - Convertir un entier x en une chaîne de caractères \n",
    "\n",
    "\n",
    "\n"
   ],
   "id": "fdbe4492d8757bc9"
  },
  {
   "metadata": {},
   "cell_type": "markdown",
   "source": [
    "Resultat p et q a partir de https://www.alpertron.com.ar/ECM.HTM est:\n",
    "\n",
    "172 219604 291138 178634 924980 176652 297603 347655 313304 280071 646410 523864 939208 855547 078498 922947 475940 487766 894695 848119 416017 067844 129458 299713 889703 424997 977808 694983 717968 420001 033168 722360 067307 143390 485095 229367 172423 195469 582545 920975 539060 699530 956357 494837 243598 213416 944408 434967 474317 474605 697904 676813 343577 310719 430442 085422 937057 220239 881971 046349 315235 043163 226355 302567 726074 269720 408051 461805 113819 456513 196492 192727 498270 702594 217800 502904 761235 711809 203123 842506 621973 488494 670663 483187 137290 546241 477681 096402 483981 619592 515049 062514 180404 818608 764516 997842 633077 157249 806627 735448 350463 (603 digits) = 10 715086 071862 673209 484250 490600 018105 614048 117055 336074 437503 883703 510511 249361 224931 983788 156958 581275 946729 175531 468251 871452 856923 140435 984577 574698 574803 934567 774824 230985 421074 605062 371141 877954 182153 046474 983581 941267 398767 559165 543946 077062 914571 196477 686542 167660 429831 652624 386837 205668 069673 (302 digits) × 16 072629 107794 009814 226375 735900 027158 421072 175583 004111 656255 825555 265766 874041 837397 975682 235437 871913 920093 763297 202377 807179 285384 710653 976866 362047 862205 901851 662236 346478 131611 907593 556712 816931 273229 569712 475372 911901 098151 338748 315919 115594 371856 794716 529813 251490 644747 478936 580257 043048 672231 (302 digits)"
   ],
   "id": "e99485f263e8d279"
  },
  {
   "metadata": {
    "ExecuteTime": {
     "end_time": "2024-11-11T04:41:47.158209Z",
     "start_time": "2024-11-11T04:41:47.149912Z"
    }
   },
   "cell_type": "code",
   "source": [
    "p = 10715086071862673209484250490600018105614048117055336074437503883703510511249361224931983788156958581275946729175531468251871452856923140435984577574698574803934567774824230985421074605062371141877954182153046474983581941267398767559165543946077062914571196477686542167660429831652624386837205668069673\n",
    "\n",
    "q = 16072629107794009814226375735900027158421072175583004111656255825555265766874041837397975682235437871913920093763297202377807179285384710653976866362047862205901851662236346478131611907593556712816931273229569712475372911901098151338748315919115594371856794716529813251490644747478936580257043048672231\n",
    "\n"
   ],
   "id": "d077231082f558fd",
   "outputs": [],
   "execution_count": 22
  },
  {
   "metadata": {
    "ExecuteTime": {
     "end_time": "2024-11-11T04:41:47.196740Z",
     "start_time": "2024-11-11T04:41:47.186226Z"
    }
   },
   "cell_type": "code",
   "source": [
    "# Fonction de déchiffrement RSA\n",
    "def rsa_decrypt(C, e, p, q):\n",
    "    # Calcul de l'indice d'Euler phi(N)\n",
    "    if p * q == N:\n",
    "        phi_N = (p - 1) * (q - 1)\n",
    "    else:\n",
    "        raise ValueError(\"Les valeurs de p et q sont incorrectes.\")\n",
    "    \n",
    "    # Calcul de l'exposant privé d\n",
    "    d = modinv(e, phi_N)\n",
    "\n",
    "    # Déchiffrement : calculer M = C^d mod N\n",
    "    M = modular_pow(C, d, N)\n",
    "\n",
    "    # Convertir M en bytes et interpréter en tant que chaîne de caractères\n",
    "    byte_length = (M.bit_length() + 7) // 8  # Nombre de bytes nécessaires\n",
    "    message_bytes = M.to_bytes(byte_length, byteorder='big')  # Convertir en bytes\n",
    "    try:\n",
    "        message = message_bytes.decode('utf-8')  # Décoder en UTF-8\n",
    "    except UnicodeDecodeError:\n",
    "        message = message_bytes.decode('utf-8', errors='ignore')  # Ignorer les erreurs de décodage\n",
    "\n",
    "    return message"
   ],
   "id": "73d960831e2187b9",
   "outputs": [],
   "execution_count": 23
  },
  {
   "metadata": {
    "ExecuteTime": {
     "end_time": "2024-11-11T04:41:50.728212Z",
     "start_time": "2024-11-11T04:41:50.648960Z"
    }
   },
   "cell_type": "code",
   "source": [
    "# Appel de la fonction\n",
    "try:\n",
    "    message = rsa_decrypt(C, e, p, q)\n",
    "    print(\"Message converti en texte:\", message)\n",
    "except Exception as ex:\n",
    "    print(\"Erreur lors du déchiffrement:\", ex)"
   ],
   "id": "bce59e98e2a3789b",
   "outputs": [
    {
     "name": "stdout",
     "output_type": "stream",
     "text": [
      "Message converti en texte: Marcel Proust\n"
     ]
    }
   ],
   "execution_count": 26
  },
  {
   "metadata": {},
   "cell_type": "markdown",
   "source": [
    "# Question 2 \n",
    "\n",
    "- Elle est entièrement sur github \n",
    "https://github.com/IFT3275-Securite-Informatique/devoir-1-cryptographie-yongkang-wanting\n"
   ],
   "id": "7e1cb47d457c69a5"
  }
 ],
 "metadata": {
  "kernelspec": {
   "display_name": "Python 3",
   "language": "python",
   "name": "python3"
  },
  "language_info": {
   "codemirror_mode": {
    "name": "ipython",
    "version": 2
   },
   "file_extension": ".py",
   "mimetype": "text/x-python",
   "name": "python",
   "nbconvert_exporter": "python",
   "pygments_lexer": "ipython2",
   "version": "2.7.6"
  }
 },
 "nbformat": 4,
 "nbformat_minor": 5
}
